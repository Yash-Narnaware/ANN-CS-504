{
  "nbformat": 4,
  "nbformat_minor": 0,
  "metadata": {
    "colab": {
      "provenance": [],
      "include_colab_link": true
    },
    "kernelspec": {
      "name": "python3",
      "display_name": "Python 3"
    },
    "language_info": {
      "name": "python"
    }
  },
  "cells": [
    {
      "cell_type": "markdown",
      "metadata": {
        "id": "view-in-github",
        "colab_type": "text"
      },
      "source": [
        "<a href=\"https://colab.research.google.com/github/Yash-Narnaware/ANN-CS-504/blob/main/PA_1_2024AIM1011.ipynb\" target=\"_parent\"><img src=\"https://colab.research.google.com/assets/colab-badge.svg\" alt=\"Open In Colab\"/></a>"
      ]
    },
    {
      "cell_type": "markdown",
      "source": [
        "# **Programming Assignment - 1**\n",
        "# **Building a Perceptron from Scratch**\n",
        "\n",
        "*   Make your own copy of the file to work with\n",
        "\n",
        "*   Template for Perceptron class (along with parameters and attributes) is given below. You need to fill the implementations for each of the functions defined in the class.\n",
        "\n",
        "*   Three test cases are provided at the end for training and testing your perceptron for different cases.\n",
        "\n",
        "*   Save your assignment in the format PA-1-2021CSBXXXX (with your entry number)and upload to Google Classroom\n"
      ],
      "metadata": {
        "id": "vSERndUzcXqJ"
      }
    },
    {
      "cell_type": "code",
      "source": [
        "# Import the necessary libraries\n",
        "import numpy as np\n",
        "import random\n",
        "\n",
        "# TO DO: Add any other libraries (if needed)"
      ],
      "metadata": {
        "id": "bZwsGtF3JO7Z"
      },
      "execution_count": null,
      "outputs": []
    },
    {
      "cell_type": "code",
      "execution_count": null,
      "metadata": {
        "id": "Gh2qI3yjJJ73"
      },
      "outputs": [],
      "source": [
        "# Build Simple Perceptron Model (Rosenblatt) for Binary Classification\n",
        "# [15 Points]\n",
        "class Perceptron:\n",
        "\n",
        "    \"\"\" Parameters:\n",
        "\n",
        "        N  : Number of inputs to the perceptron\n",
        "        LR : Learning rate between 0.0 and 1.0.\n",
        "\n",
        "        Attributes:\n",
        "\n",
        "        w : Weights corresponding to the inputs of the perceptron\n",
        "            1D-arrary of length N+1 with w[0] used for bias\n",
        "    \"\"\"\n",
        "\n",
        "    # TO DO: Initialize the weights and learning rate [1 Point]\n",
        "    def __init__(self, N, LR = 0.01):\n",
        "\n",
        "      self.N = N\n",
        "      self.LR = LR\n",
        "      self.w = np.array([0]*(self.N+1))\n",
        "      # self.w = np.random.rand(self.N+1)\n",
        "      self.threshold = 0\n",
        "\n",
        "    # TO DO: Implement weighted sum of features and weights ( + bias) [2 Point]\n",
        "    def weighted_sum(self, X):\n",
        "      return np.dot(self.w,X)\n",
        "      # Return\n",
        "\n",
        "    # TO DO: Define the simple Step activation function [1 Point]\n",
        "    def step_function(self, z):\n",
        "\n",
        "      if z > self.threshold:\n",
        "        return 1\n",
        "      else:\n",
        "        return 0\n",
        "      # Return\n",
        "\n",
        "    # TO DO: Define the Prediction (for X with current weights) [2 Points]\n",
        "    def predict(self, X):\n",
        "\n",
        "      #for predicting only, bias will not be added in input so adding the bias.\n",
        "      if len(X) != self.N+1:\n",
        "        X = np.insert(X,0,1)\n",
        "\n",
        "      z = self.weighted_sum(X)\n",
        "\n",
        "      return self.step_function(z)\n",
        "\n",
        "      # Return\n",
        "\n",
        "    # TO DO: Define the Loss function [1 Point]\n",
        "    def loss(self, y_pred, y_true):\n",
        "\n",
        "      # if y_pred != y_true:\n",
        "      #   return 1 if y_true == 1 else -1\n",
        "      # else:\n",
        "      #   return 0\n",
        "\n",
        "      return y_true - y_pred\n",
        "\n",
        "      # Return\n",
        "\n",
        "    # TO DO: Define training function - update weights [4 Points]\n",
        "    def train(self, X, y_true):\n",
        "\n",
        "      X = np.insert(X,0,1)\n",
        "\n",
        "      y_pred = self.predict(X)\n",
        "      loss = self.loss(y_pred,y_true)\n",
        "\n",
        "      self.w = self.w + self.LR*loss*X\n",
        "\n",
        "      print(self.w)\n",
        "\n",
        "\n",
        "    # TO DO: Fit Training Set Using Perceptron Learning Algorithm [4 Points]\n",
        "    \"\"\" Parameters:\n",
        "        Input       : An array with shape [nSamples, nFeatures]\n",
        "                      nSamples - number of samples\n",
        "                      nFeatuers - number of featrures\n",
        "\n",
        "        Output      : 1D-array of length [nSamples]\n",
        "                      Binary classification of each sample\n",
        "\n",
        "        nIterations : Number of iteration of learning aglorithm to run\n",
        "                      over the training set\n",
        "    \"\"\"\n",
        "    def fit(self, Input, Output, nIterations):\n",
        "\n",
        "      for i in range(nIterations):\n",
        "\n",
        "        #selecting random point\n",
        "        # selected_point_index = random.randint(0,len(Input)-1)\n",
        "\n",
        "        #selecting points in order.(In Rosenbaltt's model points are selected randomly but it may take more number of iterations for convergence of a model so I included both approaches)\n",
        "        selected_point_index = i%len(Input)\n",
        "\n",
        "        self.train(np.array(Input[selected_point_index]),Output[selected_point_index])\n",
        "\n",
        "\n",
        "      # Use above defined functions in each iteration"
      ]
    },
    {
      "cell_type": "code",
      "source": [
        "# TO DO: CODE FOR TRAINING AND TESTING PERCPETRON - AND GATE\n",
        "# [3 Points]\n",
        "\n",
        "And_inp = [[0,0],[0,1],[1,0],[1,1]]\n",
        "And_out = [0,0,0,1]\n",
        "\n",
        "And_GATE_Train = Perceptron(2,0.02)\n",
        "And_GATE_Train.fit(And_inp,And_out,22)\n"
      ],
      "metadata": {
        "id": "l6hOU4CROTM7",
        "colab": {
          "base_uri": "https://localhost:8080/"
        },
        "outputId": "8bb8596e-7dc8-4dba-d23a-a8e8253b6bed"
      },
      "execution_count": null,
      "outputs": [
        {
          "output_type": "stream",
          "name": "stdout",
          "text": [
            "[0. 0. 0.]\n",
            "[0. 0. 0.]\n",
            "[0. 0. 0.]\n",
            "[0.02 0.02 0.02]\n",
            "[0.   0.02 0.02]\n",
            "[-0.02  0.02  0.  ]\n",
            "[-0.02  0.02  0.  ]\n",
            "[0.   0.04 0.02]\n",
            "[0.   0.04 0.02]\n",
            "[-0.02  0.04  0.  ]\n",
            "[-0.04  0.02  0.  ]\n",
            "[-0.02  0.04  0.02]\n",
            "[-0.02  0.04  0.02]\n",
            "[-0.02  0.04  0.02]\n",
            "[-0.04  0.02  0.02]\n",
            "[-0.02  0.04  0.04]\n",
            "[-0.02  0.04  0.04]\n",
            "[-0.04  0.04  0.02]\n",
            "[-0.04  0.04  0.02]\n",
            "[-0.04  0.04  0.02]\n",
            "[-0.04  0.04  0.02]\n",
            "[-0.04  0.04  0.02]\n"
          ]
        }
      ]
    },
    {
      "cell_type": "code",
      "source": [
        "#printing the final trained weights [bias,w1,w2]\n",
        "print(And_GATE_Train.w)"
      ],
      "metadata": {
        "colab": {
          "base_uri": "https://localhost:8080/"
        },
        "id": "hpRPJYvSBtu_",
        "outputId": "d5c72f98-b555-45e8-995a-c54172145b87"
      },
      "execution_count": null,
      "outputs": [
        {
          "output_type": "stream",
          "name": "stdout",
          "text": [
            "[-0.04  0.04  0.02]\n"
          ]
        }
      ]
    },
    {
      "cell_type": "code",
      "source": [
        "#Testing AND gate\n",
        "print(\"Input: [0,0], Output:\",And_GATE_Train.predict([0,0]))\n",
        "print(\"Input: [1,0], Output:\",And_GATE_Train.predict([1,0]))\n",
        "print(\"Input: [0,1], Output:\",And_GATE_Train.predict([0,1]))\n",
        "print(\"Input: [1,1], Output:\",And_GATE_Train.predict([1,1]))"
      ],
      "metadata": {
        "colab": {
          "base_uri": "https://localhost:8080/"
        },
        "id": "9GsxGiG89JTg",
        "outputId": "1aefaa1e-1816-4321-a6c3-c3e0d41cec5c"
      },
      "execution_count": null,
      "outputs": [
        {
          "output_type": "stream",
          "name": "stdout",
          "text": [
            "Input: [0,0], Output: 0\n",
            "Input: [1,0], Output: 0\n",
            "Input: [0,1], Output: 0\n",
            "Input: [1,1], Output: 1\n"
          ]
        }
      ]
    },
    {
      "cell_type": "code",
      "source": [
        "# TO DO: CODE FOR TRAINING AND TESTING PERCPETRON - OR GATE\n",
        "# [3 Points]\n",
        "\n",
        "Or_inp = [[0,0],[0,1],[1,0],[1,1]]\n",
        "Or_out = [0,1,1,1]\n",
        "\n",
        "Or_GATE_Train = Perceptron(2)\n",
        "Or_GATE_Train.fit(Or_inp,Or_out,12)"
      ],
      "metadata": {
        "id": "eo0TMs3uV35s",
        "colab": {
          "base_uri": "https://localhost:8080/"
        },
        "outputId": "3de30055-f85c-4fcb-b0c8-f98f03676f1e"
      },
      "execution_count": null,
      "outputs": [
        {
          "output_type": "stream",
          "name": "stdout",
          "text": [
            "[0. 0. 0.]\n",
            "[0.01 0.   0.01]\n",
            "[0.01 0.   0.01]\n",
            "[0.01 0.   0.01]\n",
            "[0.   0.   0.01]\n",
            "[0.   0.   0.01]\n",
            "[0.01 0.01 0.01]\n",
            "[0.01 0.01 0.01]\n",
            "[0.   0.01 0.01]\n",
            "[0.   0.01 0.01]\n",
            "[0.   0.01 0.01]\n",
            "[0.   0.01 0.01]\n"
          ]
        }
      ]
    },
    {
      "cell_type": "code",
      "source": [
        "#printing the final trained weights [bias(w0),w1,w2]\n",
        "print(Or_GATE_Train.w)"
      ],
      "metadata": {
        "colab": {
          "base_uri": "https://localhost:8080/"
        },
        "id": "KExh47EiB5Dh",
        "outputId": "c30a056c-e36b-47a2-da4a-ad46c73f3a8a"
      },
      "execution_count": null,
      "outputs": [
        {
          "output_type": "stream",
          "name": "stdout",
          "text": [
            "[0.   0.01 0.01]\n"
          ]
        }
      ]
    },
    {
      "cell_type": "code",
      "source": [
        "#Testing OR gate\n",
        "print(\"Input: [0,0], Output:\",Or_GATE_Train.predict([0,0]))\n",
        "print(\"Input: [1,0], Output:\",Or_GATE_Train.predict([1,0]))\n",
        "print(\"Input: [0,1], Output:\",Or_GATE_Train.predict([0,1]))\n",
        "print(\"Input: [1,1], Output:\",Or_GATE_Train.predict([1,1]))"
      ],
      "metadata": {
        "colab": {
          "base_uri": "https://localhost:8080/"
        },
        "id": "EPem7EaIM-Qt",
        "outputId": "83ae15f4-5d89-4830-ec7f-e8094285cdf4"
      },
      "execution_count": null,
      "outputs": [
        {
          "output_type": "stream",
          "name": "stdout",
          "text": [
            "Input: [0,0], Output: 0\n",
            "Input: [1,0], Output: 1\n",
            "Input: [0,1], Output: 1\n",
            "Input: [1,1], Output: 1\n"
          ]
        }
      ]
    },
    {
      "cell_type": "code",
      "source": [
        "# TO DO: Design a perceptron to decide if the binary pattern of Digits 0 - 9 is\n",
        "# EVEN OR ODD - # [4 Points]\n",
        "\"\"\" Binary pattern for Digits 0 - 9 given below\n",
        "    0 -\t[1\t1\t1\t1\t0\t1\t1\t0\t1\t1\t0\t1\t1\t1\t1]\n",
        "1\t- [1\t1\t0\t0\t1\t0\t0\t1\t1\t0\t1\t0\t1\t1\t1]\n",
        "2\t- [1\t1\t1\t1\t0\t1\t0\t1\t1\t1\t1\t0\t1\t1\t1]\n",
        "3\t- [1\t1\t1\t1\t1\t1\t0\t1\t1\t0\t0\t1\t1\t1\t1]\n",
        "4\t- [0\t1\t0\t1\t1\t0\t1\t1\t0\t1\t1\t1\t0\t1\t0]\n",
        "5\t- [1\t1\t1\t1\t1\t0\t0\t1\t1\t0\t0\t1\t1\t1\t1]\n",
        "6\t- [0\t1\t1\t1\t1\t0\t1\t1\t1\t1\t0\t1\t1\t1\t1]\n",
        "7\t- [1\t1\t1\t1\t0\t1\t0\t1\t0\t0\t1\t0\t0\t1\t0]\n",
        "8\t- [1\t1\t1\t1\t0\t1\t1\t1\t1\t1\t0\t1\t1\t1\t1]\n",
        "9\t- [1\t1\t1\t1\t0\t1\t1\t1\t1\t0\t1\t1\t1\t1\t0]\n",
        "\n",
        "Use the above table as training data along with lables (0 - Odd, 1 - even) to\n",
        "train a perceptron\n",
        "\n",
        "Train for 10 iterations\n",
        "\n",
        "Ater training, test on the following patterns and check if the perceptron output\n",
        "is correct\n",
        "Test1 = [1 1 1 1 0 1 1 0 1 1 0 1 1 0 1]\n",
        "Test2 = [1 1 0 0 1 0 0 1 1 0 1 0 1 1 1]\n",
        "\"\"\"\n",
        "Bin_pattern_Inp = [[1,1,1,1,0,1,1,0,1,1,0,1,1,1,1],\n",
        "              [1,1,0,0,1,0,0,1,1,0,1,0,1,1,1],\n",
        "              [1,1,1,1,0,1,0,1,1,1,1,0,1,1,1],\n",
        "              [1,1,1,1,1,1,0,1,1,0,0,1,1,1,1],\n",
        "              [0,1,0,1,1,0,1,1,0,1,1,1,0,1,0],\n",
        "              [1,1,1,1,1,0,0,1,1,0,0,1,1,1,1],\n",
        "              [0,1,1,1,1,0,1,1,1,1,0,1,1,1,1],\n",
        "              [1,1,1,1,0,1,0,1,0,0,1,0,0,1,0],\n",
        "              [1,1,1,1,0,1,1,1,1,1,0,1,1,1,1],\n",
        "              [1,1,1,1,0,1,1,1,1,0,1,1,1,1,0]]\n",
        "\n",
        "Bin_pattern_Out = [1,0,1,0,1,0,1,0,1,0]\n",
        "\n",
        "train_binary = Perceptron(15)\n",
        "train_binary.fit(Bin_pattern_Inp,Bin_pattern_Out,10)\n"
      ],
      "metadata": {
        "id": "Rmi1sc6cWY57",
        "colab": {
          "base_uri": "https://localhost:8080/"
        },
        "outputId": "57b5279c-cb41-427b-bb92-91e36184dbc7"
      },
      "execution_count": null,
      "outputs": [
        {
          "output_type": "stream",
          "name": "stdout",
          "text": [
            "[0.01 0.01 0.01 0.01 0.01 0.   0.01 0.01 0.   0.01 0.01 0.   0.01 0.01\n",
            " 0.01 0.01]\n",
            "[ 0.    0.    0.    0.01  0.01 -0.01  0.01  0.01 -0.01  0.    0.01 -0.01\n",
            "  0.01  0.    0.    0.  ]\n",
            "[ 0.    0.    0.    0.01  0.01 -0.01  0.01  0.01 -0.01  0.    0.01 -0.01\n",
            "  0.01  0.    0.    0.  ]\n",
            "[-0.01 -0.01 -0.01  0.    0.   -0.02  0.    0.01 -0.02 -0.01  0.01 -0.01\n",
            "  0.   -0.01 -0.01 -0.01]\n",
            "[ 0.   -0.01  0.    0.    0.01 -0.01  0.    0.02 -0.01 -0.01  0.02  0.\n",
            "  0.01 -0.01  0.   -0.01]\n",
            "[ 0.   -0.01  0.    0.    0.01 -0.01  0.    0.02 -0.01 -0.01  0.02  0.\n",
            "  0.01 -0.01  0.   -0.01]\n",
            "[ 0.   -0.01  0.    0.    0.01 -0.01  0.    0.02 -0.01 -0.01  0.02  0.\n",
            "  0.01 -0.01  0.   -0.01]\n",
            "[ 0.   -0.01  0.    0.    0.01 -0.01  0.    0.02 -0.01 -0.01  0.02  0.\n",
            "  0.01 -0.01  0.   -0.01]\n",
            "[ 0.   -0.01  0.    0.    0.01 -0.01  0.    0.02 -0.01 -0.01  0.02  0.\n",
            "  0.01 -0.01  0.   -0.01]\n",
            "[ 0.   -0.01  0.    0.    0.01 -0.01  0.    0.02 -0.01 -0.01  0.02  0.\n",
            "  0.01 -0.01  0.   -0.01]\n"
          ]
        }
      ]
    },
    {
      "cell_type": "markdown",
      "source": [
        "Question specifies to use 10 iterations thats why I used only 10 iterations but I am not getting consistant results with 10 iterations. I think training should be done for more number of iterations. To get consistant results I am choosing points in order instead of randomly selecting them."
      ],
      "metadata": {
        "id": "vBq6Eph0EEUf"
      }
    },
    {
      "cell_type": "code",
      "source": [
        "#Testing trained weights on testing data\n",
        "print(\"Input:[1,1,1,1,0,1,1,0,1,1,0,1,1,0,1], Output:\",train_binary.predict([1,1,1,1,0,1,1,0,1,1,0,1,1,0,1]))\n",
        "print(\"Input:[1,1,0,0,1,0,0,1,1,0,1,0,1,1,1], Output:\",train_binary.predict([1,1,0,0,1,0,0,1,1,0,1,0,1,1,1]))"
      ],
      "metadata": {
        "colab": {
          "base_uri": "https://localhost:8080/"
        },
        "id": "xnbplLGXiAAy",
        "outputId": "0c4e4929-818b-4dd3-d7f0-6a54fc98679a"
      },
      "execution_count": null,
      "outputs": [
        {
          "output_type": "stream",
          "name": "stdout",
          "text": [
            "Input:[1,1,1,1,0,1,1,0,1,1,0,1,1,0,1], Output: 1\n",
            "Input:[1,1,0,0,1,0,0,1,1,0,1,0,1,1,1], Output: 0\n"
          ]
        }
      ]
    }
  ]
}